{
 "cells": [
  {
   "cell_type": "markdown",
   "id": "b7eb5924",
   "metadata": {},
   "source": [
    "# The shortest way between two given points"
   ]
  },
  {
   "cell_type": "code",
   "execution_count": 39,
   "id": "16580bb0",
   "metadata": {},
   "outputs": [],
   "source": [
    "import numpy as np "
   ]
  },
  {
   "cell_type": "code",
   "execution_count": 40,
   "id": "161f153b",
   "metadata": {},
   "outputs": [],
   "source": [
    "# Define the states\n",
    "location_to_state = {\n",
    "    'L1' : 0,\n",
    "    'L2' : 1,\n",
    "    'L3' : 2,\n",
    "    'L4' : 3,\n",
    "    'L5' : 4,\n",
    "    'L6' : 5,\n",
    "    'L7' : 6,\n",
    "    'L8' : 7,\n",
    "    'L9' : 8\n",
    "}"
   ]
  },
  {
   "cell_type": "markdown",
   "id": "080b194f",
   "metadata": {},
   "source": [
    "We define all possible actions or the points/nodes that exist."
   ]
  },
  {
   "cell_type": "code",
   "execution_count": 41,
   "id": "1f008862",
   "metadata": {},
   "outputs": [],
   "source": [
    "# Define the actions\n",
    "actions = [0,1,2,3,4,5,6,7,8]\n"
   ]
  },
  {
   "cell_type": "code",
   "execution_count": 42,
   "id": "7b37036a",
   "metadata": {},
   "outputs": [],
   "source": [
    "# Define the rewards array for every action\n",
    "rewards = np.array([[0,1,0,0,0,0,0,0,0],\n",
    "                    [1,0,1,0,1,0,0,0,0],\n",
    "                    [0,1,0,0,0,1,0,0,0],\n",
    "                    [0,0,0,0,0,0,1,0,0],\n",
    "                    [0,1,0,0,0,0,0,1,0],\n",
    "                    [0,0,1,0,0,0,0,0,0],\n",
    "                    [0,0,0,1,0,0,0,1,0],\n",
    "                    [0,0,0,0,1,0,1,0,1],\n",
    "                    [0,0,0,0,0,0,0,1,0]])"
   ]
  },
  {
   "cell_type": "markdown",
   "id": "e66d09a9",
   "metadata": {},
   "source": [
    "We define our environment by mapping the state to a location and set the discount factor and learning rate:\n",
    "\n"
   ]
  },
  {
   "cell_type": "code",
   "execution_count": 43,
   "id": "42e113d8",
   "metadata": {},
   "outputs": [],
   "source": [
    "#map indices to locations\n",
    "state_to_location= dict((state,location) for location,state in location_to_state.items())\n",
    "\n",
    "#Initialize the parameters\n",
    "gamma = 0.75 # Discount factor\n",
    "alpha = 0.9 # Learning rate"
   ]
  },
  {
   "cell_type": "code",
   "execution_count": 44,
   "id": "2e331736",
   "metadata": {},
   "outputs": [],
   "source": [
    "class QAgent():\n",
    "    #Initialize alpha,gamma,states,actions,rewards,and Q-values\n",
    "    def __init__(self, alpha,gamma,location_to_state, actions,rewards,state_to_location ):\n",
    "        self.gamma = gamma \n",
    "        self.alpha = alpha\n",
    "        \n",
    "        self.location_to_state = location_to_state\n",
    "        self.actions = actions\n",
    "        self.rewards = rewards\n",
    "        self.state_to_location = state_to_location\n",
    "        \n",
    "        M= len(location_to_state)\n",
    "        self.Q=np.zeros((M,M),dtype=None,order='C')\n",
    "        \n",
    "        #Training the robot in the environment\n",
    "    def training(self,start_location,end_location,iterations):\n",
    "        rewards_new = np.copy(self.rewards)\n",
    "        \n",
    "        ending_state= self.location_to_state[end_location]\n",
    "        rewards_new[ending_state,ending_state]=999\n",
    "        \n",
    "        #Picking a random current state\n",
    "        for i in range(iterations):\n",
    "            current_state=np.random.randint(0,9)\n",
    "            playable_actions =[]\n",
    "            \n",
    "            #iterate through the rewards matrix to get the states\n",
    "            #directly reachable from the radomly chosen current state\n",
    "            #assign those state in a list named playable_ations.\n",
    "            for j in range(9):\n",
    "                if rewards_new[current_state,j]>0:\n",
    "                    playable_actions.append(j)\n",
    "                    \n",
    "            #choosing a random next state\n",
    "            next_state=np.random.choice(playable_actions)\n",
    "            \n",
    "            #finding temporal difference\n",
    "            TD= rewards_new[current_state, next_state]+\\\n",
    "                    self.gamma*self.Q[next_state, np.argmax(self.Q[next_state,])]-self.Q[current_state,next_state]\n",
    "            \n",
    "            self.Q[current_state, next_state]+=self.alpha*TD\n",
    "        \n",
    "        route=[start_location]\n",
    "        next_location=start_location\n",
    "        #Get the route\n",
    "        self.get_optimal_route(start_location,end_location,next_location,route,self.Q)\n",
    "        \n",
    "    #Get the optimal route\n",
    "    def get_optimal_route(self,start_location,end_location,next_location,route,Q):\n",
    "        while(next_location != end_location):\n",
    "            starting_state=self.location_to_state[start_location]\n",
    "            next_state= np.argmax(Q[starting_state,])\n",
    "            next_location=self.state_to_location[next_state]\n",
    "            route.append(next_location)\n",
    "            start_location= next_location\n",
    "        print(route)\n",
    "        \n",
    "        \n",
    "        "
   ]
  },
  {
   "cell_type": "markdown",
   "id": "f12e2561",
   "metadata": {},
   "source": [
    "Now, let's call our agent and check the shortest route between points L9 and L1:"
   ]
  },
  {
   "cell_type": "code",
   "execution_count": 45,
   "id": "f038ac00",
   "metadata": {},
   "outputs": [
    {
     "name": "stdout",
     "output_type": "stream",
     "text": [
      "['L9', 'L8', 'L5', 'L2', 'L1']\n"
     ]
    }
   ],
   "source": [
    "qagent= QAgent(alpha,gamma,location_to_state,actions,rewards,state_to_location)\n",
    "qagent.training('L9','L1',1000)"
   ]
  },
  {
   "cell_type": "markdown",
   "id": "5593ee5b",
   "metadata": {},
   "source": [
    "As we can see, the model has found the shortest path between points 1 and 9 by traversing through points 5 8 2. "
   ]
  },
  {
   "cell_type": "code",
   "execution_count": null,
   "id": "2d02300f",
   "metadata": {},
   "outputs": [],
   "source": []
  }
 ],
 "metadata": {
  "kernelspec": {
   "display_name": "Python 3 (ipykernel)",
   "language": "python",
   "name": "python3"
  },
  "language_info": {
   "codemirror_mode": {
    "name": "ipython",
    "version": 3
   },
   "file_extension": ".py",
   "mimetype": "text/x-python",
   "name": "python",
   "nbconvert_exporter": "python",
   "pygments_lexer": "ipython3",
   "version": "3.9.7"
  }
 },
 "nbformat": 4,
 "nbformat_minor": 5
}
